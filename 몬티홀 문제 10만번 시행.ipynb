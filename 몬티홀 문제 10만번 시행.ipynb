{
 "cells": [
  {
   "cell_type": "code",
   "execution_count": 152,
   "id": "633c56f7",
   "metadata": {
    "scrolled": true
   },
   "outputs": [
    {
     "name": "stdout",
     "output_type": "stream",
     "text": [
      "바꿨을 때 10만번 시행 중 정답 수: 66626\n"
     ]
    }
   ],
   "source": [
    "import random as r\n",
    "d=[0,0,1]\n",
    "count=0\n",
    "for k in range(100000):\n",
    "    r.shuffle(d)\n",
    "    c=r.randint(0,2)\n",
    "    for i in range(3):\n",
    "        if i!=c and d[i]==0:\n",
    "            t=[0,1,2]\n",
    "            t.remove(c)\n",
    "            t.remove(i)\n",
    "            c=t[0]\n",
    "            if d[c]==1:\n",
    "                count+=1\n",
    "print('바꿨을 때 10만번 시행 중 정답 수:', count)"
   ]
  },
  {
   "cell_type": "code",
   "execution_count": 122,
   "id": "ff9a5bdc",
   "metadata": {},
   "outputs": [
    {
     "name": "stdout",
     "output_type": "stream",
     "text": [
      "안 바꿨을 때 10만번 시행 중 정답 수: 33145\n"
     ]
    }
   ],
   "source": [
    "import random as r\n",
    "d=[0,0,1]\n",
    "count=0\n",
    "for k in range(100000):\n",
    "    r.shuffle(d)\n",
    "    c=r.randint(0,2)\n",
    "    if d[c]==1:\n",
    "        count+=1\n",
    "print('안 바꿨을 때 10만번 시행 중 정답 수:', count)"
   ]
  },
  {
   "cell_type": "code",
   "execution_count": 135,
   "id": "96479d4a",
   "metadata": {},
   "outputs": [
    {
     "name": "stdout",
     "output_type": "stream",
     "text": [
      "d= [0, 1, 0]\n",
      "c= 1\n",
      "i=0, c=1\n",
      "i=0, c=2, d[c]=0\n",
      "i=1, c=2\n"
     ]
    }
   ],
   "source": [
    "d=[0,0,1]\n",
    "r.shuffle(d)\n",
    "print('d=',d)\n",
    "c=r.randint(0,2)\n",
    "print('c=',c)\n",
    "for i in range(3):\n",
    "    print('i={0}, c={1}'.format(i,c))\n",
    "    if i!=c and d[i]==0:\n",
    "        t=[0,1,2]\n",
    "        t.remove(c)\n",
    "        t.remove(i)\n",
    "        c=t[0]\n",
    "        print('i={0}, c={1}, d[c]={2}'.format(i,c,d[c]))"
   ]
  }
 ],
 "metadata": {
  "kernelspec": {
   "display_name": "Python 3",
   "language": "python",
   "name": "python3"
  },
  "language_info": {
   "codemirror_mode": {
    "name": "ipython",
    "version": 3
   },
   "file_extension": ".py",
   "mimetype": "text/x-python",
   "name": "python",
   "nbconvert_exporter": "python",
   "pygments_lexer": "ipython3",
   "version": "3.8.8"
  }
 },
 "nbformat": 4,
 "nbformat_minor": 5
}
