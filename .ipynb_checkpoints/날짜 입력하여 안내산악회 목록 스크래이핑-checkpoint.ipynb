{
 "cells": [
  {
   "cell_type": "code",
   "execution_count": 1,
   "id": "05d39005",
   "metadata": {},
   "outputs": [],
   "source": [
    "from selenium import webdriver\n",
    "from bs4 import BeautifulSoup\n",
    "\n",
    "driver=webdriver.Chrome('C:/Users/USER/python_Data_analytics/Web_Scraping/chromedriver/chromedriver.exe')"
   ]
  },
  {
   "cell_type": "code",
   "execution_count": 2,
   "id": "45655f27",
   "metadata": {},
   "outputs": [],
   "source": [
    "url='https://cafe.daum.net/BlueMountainss'\n",
    "driver.get(url)"
   ]
  },
  {
   "cell_type": "code",
   "execution_count": 3,
   "id": "63297cd2",
   "metadata": {},
   "outputs": [],
   "source": [
    "html=driver.page_source\n",
    "soup = BeautifulSoup(html, 'html.parser')"
   ]
  },
  {
   "cell_type": "code",
   "execution_count": 8,
   "id": "f5305c4b",
   "metadata": {},
   "outputs": [
    {
     "data": {
      "text/plain": [
       "<html class=\"\" lang=\"ko\"><head>\n",
       "<meta content=\"text/html; charset=utf-8\" http-equiv=\"content-type\"/>\n",
       "<meta content=\"IE=edge\" http-equiv=\"X-UA-Compatible\"/>\n",
       "<meta content=\"emVCMF0mxjNszOhGaUfJ8FkMTxlVO4g0U4gG5cO71pg\" name=\"google-site-verification\"/>\n",
       "<title>다음매일 산악회 - Daum 카페</title>\n",
       "<meta content=\"https://cafe.daum.net/_c21_/home?grpid=1DyQX\" property=\"og:url\"/>\n",
       "<meta content=\"noindex,follow\" name=\"robots\"/>\n",
       "<script language=\"javascript\">\n",
       "\t\tdocument.domain=\"daum.net\";\n",
       "\n",
       "\t\tvar comment_area_fold = 0;\n",
       "\t\tvar flag=false;\n",
       "\t\tvar clean = \"\";\n",
       "\t\tvar personal_count = \"\";\n",
       "\t\tfunction cleanPersonalArea(arg){\n",
       "\t\t\tif(clean != arg){\n",
       "\t\t\t\tcomment_area_fold = 0;\n",
       "\t\t\t\tflag = false;\n",
       "\t\t\t\tclean = arg;\n",
       "\t\t\t\tpersonal_count = \"\";\n",
       "\t\t\t}\n",
       "\t\t}\n",
       "\t\tfunction deflag() {\n",
       "\t\t\twindow.status=\"\";\n",
       "\t\t\tflag=false;\n",
       "\t\t}\n",
       "\n",
       "\t\twindow.setTimeout(function() {\n",
       "\t\t\t(new Image()).src='/_c21_/visit_member_hdn?grpid=1DyQX';\n",
       "\t\t}, 1000);\n",
       "    </script>\n",
       "<script src=\"//t1.daumcdn.net/cafe_cj/pcweb/build/js/2009/url_reloader-e3aa17fc84.js\" type=\"text/javascript\"></script>\n",
       "<script>\n",
       "\t\tUrlReloader.init();\n",
       "    </script>\n",
       "<style type=\"text/css\">\n",
       "        html, body, iframe {\n",
       "            margin: 0;\n",
       "            padding: 0;\n",
       "            height: 100%;\n",
       "            width: 100%;\n",
       "            line-height: 0;\n",
       "        }\n",
       "        body { display: flex; }\n",
       "        iframe { display: block; }\n",
       "        #down { border: 0; }\n",
       "    </style>\n",
       "</head>\n",
       "<body>\n",
       "<iframe allowfullscreen=\"allowfullscreen\" frameborder=\"0\" id=\"down\" name=\"down\" src=\"/_c21_/home?grpid=1DyQX\" title=\"카페 메인 프레임\"></iframe>\n",
       "</body></html>"
      ]
     },
     "execution_count": 8,
     "metadata": {},
     "output_type": "execute_result"
    }
   ],
   "source": [
    "soup"
   ]
  },
  {
   "cell_type": "code",
   "execution_count": null,
   "id": "79fc9940",
   "metadata": {},
   "outputs": [],
   "source": []
  }
 ],
 "metadata": {
  "kernelspec": {
   "display_name": "Python 3",
   "language": "python",
   "name": "python3"
  },
  "language_info": {
   "codemirror_mode": {
    "name": "ipython",
    "version": 3
   },
   "file_extension": ".py",
   "mimetype": "text/x-python",
   "name": "python",
   "nbconvert_exporter": "python",
   "pygments_lexer": "ipython3",
   "version": "3.8.8"
  },
  "toc": {
   "base_numbering": 1,
   "nav_menu": {},
   "number_sections": true,
   "sideBar": true,
   "skip_h1_title": false,
   "title_cell": "Table of Contents",
   "title_sidebar": "Contents",
   "toc_cell": false,
   "toc_position": {},
   "toc_section_display": true,
   "toc_window_display": false
  }
 },
 "nbformat": 4,
 "nbformat_minor": 5
}
